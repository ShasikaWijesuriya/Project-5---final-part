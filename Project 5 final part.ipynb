{
 "cells": [
  {
   "cell_type": "markdown",
   "id": "e1cd1fb3-ba4c-46e2-a75b-849b64389f48",
   "metadata": {},
   "source": [
    "## Prpject 5 ##\n",
    "## Muthukuda Wijesuriya Arachchige Shasika Wijesuriya ##\n",
    "## Final part of coding ##\n",
    "### 2024/10/01 ###\n"
   ]
  },
  {
   "cell_type": "code",
   "execution_count": 36,
   "id": "281f5527-fbf2-4fad-bae5-0d92f57ebe69",
   "metadata": {},
   "outputs": [
    {
     "ename": "SyntaxError",
     "evalue": "invalid syntax (2621880121.py, line 18)",
     "output_type": "error",
     "traceback": [
      "\u001b[1;36m  Cell \u001b[1;32mIn[36], line 18\u001b[1;36m\u001b[0m\n\u001b[1;33m    else:\u001b[0m\n\u001b[1;37m    ^\u001b[0m\n\u001b[1;31mSyntaxError\u001b[0m\u001b[1;31m:\u001b[0m invalid syntax\n"
     ]
    }
   ],
   "source": [
    " def enter_entry(self):\n",
    "   name = simpledialog.askstring(\"Input\", \"Enter new name:\")\n",
    "   if name:\n",
    "       phone_number = simpledialog.askstring(\"Input\", \"Enter phone number: ↪\")\n",
    "       \n",
    "   if phone_number:\n",
    "        self.phonebook[name] = phone_number\n",
    "        save_phonebook(self.phonebook)\n",
    "        messagebox.showinfo(\"Success\", f\"Added: {name}->␣ ↪{phone_number}\")\n",
    "\n",
    "\n",
    " def delete_entry(self):\n",
    "   name = simpledialog.askstring(\"Input\", \"Enter the name to delete:\")\n",
    "   if name in self.phonebook:\n",
    "      del self.phonebook[name]\n",
    "      save_phonebook(self.phonebook)\n",
    "      messagebox.showinfo(\"Success\", f\"Deleted: {name}\")\n",
    "      else:\n",
    "      messagebox.showerror(\"Error\", \"Entry not found.\")\n",
    "     \n",
    " def change_phone_number(self):\n",
    "     name = simpledialog.askstring(\"Input\", \"Enter the name to change the␣ ↪phone number:\")\n",
    "     if name in self.phonebook:\n",
    "        new_number = simpledialog.askstring(\"Input\", \"Enter the new phone␣ ↪number:\")\n",
    " if new_number:\n",
    "     self.phonebook[name] = new_number\n",
    "     save_phonebook(self.phonebook)\n",
    "     messagebox.showinfo(\"Success\", f\"Updated: {name}->␣ ↪{new_number}\")\n",
    "     else:\n",
    "     messagebox.showerror(\"Error\", \"Entry not found.\")\n",
    "     \n",
    " def display_phonebook(self):\n",
    "     self.text_area.delete(1.0, tk.END) # Clear the text area\n",
    "     if self.phonebook:\n",
    "        for name, number in self.phonebook.items():\n",
    "            self.text_area.insert(tk.END, f\"{name}: {number}\\n\")\n",
    "        else:\n",
    "            self.text_area.insert(tk.END, \"Phone book is empty.\")\n",
    "     \n",
    "def exit_program(self):\n",
    "      self.root.quit()\n",
    "    \n",
    " if __name__ == \"__main__\":\n",
    "     root = tk.Tk()\n",
    "     app = PhoneBookApp(root)\n",
    "     root.mainloop()"
   ]
  },
  {
   "cell_type": "code",
   "execution_count": null,
   "id": "1b08baba-d891-4f3c-a270-da09dd2faa5c",
   "metadata": {},
   "outputs": [],
   "source": []
  }
 ],
 "metadata": {
  "kernelspec": {
   "display_name": "Python 3 (ipykernel)",
   "language": "python",
   "name": "python3"
  },
  "language_info": {
   "codemirror_mode": {
    "name": "ipython",
    "version": 3
   },
   "file_extension": ".py",
   "mimetype": "text/x-python",
   "name": "python",
   "nbconvert_exporter": "python",
   "pygments_lexer": "ipython3",
   "version": "3.12.4"
  }
 },
 "nbformat": 4,
 "nbformat_minor": 5
}
